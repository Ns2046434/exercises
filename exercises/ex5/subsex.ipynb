{
 "cells": [
  {
   "cell_type": "markdown",
   "metadata": {},
   "source": [
    "Given: Two DNA strings s\n",
    " and t\n",
    " (each of length at most 1 kbp).\n",
    "\n",
    "Return: All locations of t\n",
    " as a substring of s\n"
   ]
  },
  {
   "cell_type": "code",
   "execution_count": 1,
   "metadata": {},
   "outputs": [],
   "source": [
    "with open('rosalind_subs.txt', 'r') as file:\n",
    "    lines = file.readlines()\n",
    "    s = lines[0].strip()\n",
    "    t = lines[1].strip()"
   ]
  },
  {
   "cell_type": "code",
   "execution_count": 3,
   "metadata": {},
   "outputs": [
    {
     "name": "stdout",
     "output_type": "stream",
     "text": [
      "56 90 109 170 261 379 396 412 429 444 459 475 514 608 652 688 744 774 842 849 905 921 947 954 973\n"
     ]
    }
   ],
   "source": [
    "def subs(s, t):\n",
    "    locations = []\n",
    "    len_s = len(s)\n",
    "    len_t = len(t)\n",
    "\n",
    "    for i in range(len_s - len_t + 1):\n",
    "        if s[i:i + len_t] == t:\n",
    "            locations.append(i + 1)\n",
    "    return locations\n",
    "\n",
    "result = subs(s, t)\n",
    "print(*result)"
   ]
  }
 ],
 "metadata": {
  "kernelspec": {
   "display_name": "base",
   "language": "python",
   "name": "python3"
  },
  "language_info": {
   "codemirror_mode": {
    "name": "ipython",
    "version": 3
   },
   "file_extension": ".py",
   "mimetype": "text/x-python",
   "name": "python",
   "nbconvert_exporter": "python",
   "pygments_lexer": "ipython3",
   "version": "3.11.5"
  }
 },
 "nbformat": 4,
 "nbformat_minor": 2
}
