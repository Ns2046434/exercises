{
 "cells": [
  {
   "cell_type": "markdown",
   "metadata": {},
   "source": [
    "Given: A DNA string s\n",
    " of length at most 1000 bp.\n",
    "\n",
    "Return: The reverse complement sc\n",
    " of s."
   ]
  },
  {
   "cell_type": "code",
   "execution_count": 21,
   "metadata": {},
   "outputs": [],
   "source": [
    "with open('rosalind_revc.txt', 'r') as file:\n",
    "    dna = file.read()"
   ]
  },
  {
   "cell_type": "code",
   "execution_count": 22,
   "metadata": {},
   "outputs": [
    {
     "name": "stdout",
     "output_type": "stream",
     "text": [
      "TCGGTCGCCTTTTTAATCCTGTTTGTACGTAACTATGGCGGCAAACCGACTGTCCGCGGACCTAAGAGCGCTCTACGTCAAAACTGATAAAGAATCTTGTTTCGCTGCAAGTACACTAGAGGGTGCAAGCCCGTACCCCTGTTAAGCGGTTCCCCATCAAATACATTCATACGTCTATGACACCAATGGGTGGTCGGAGAACGGTACGCTACGATTGATCAAGGTGGGCGCTGGGAGGAAGTCGGGTGCCATTAGTTTGGGCCTCTATCTCCACGCTACAGGTGCCGTCGCCTTGGACGCGTCATTGAAGTTCTTCATGGTCGTAACGTTAACGCGTGTTTAGGGGCCAACTTAAGACGGTGCTGTCGATAATAATCAGAAACTTACCTTCTACAATTAGTTGCAACCCGGTCGTTAAGGAAAGGTGGCTGGACTGTCCCCGTAACGCTTTGCCCCTGAGATGTCGACTCCTGCATTCAGTCGCACGTTGATGTTCATTTTCTAGTCGCCCTCTGCCGTTTGCCCGCTTAAGCCACGAACTTTTGCGGTAGCGATACCAGTAATCTAGCAAACTCCAAGACGAGTTCGCAGCACAAAGGTACCCTGTCCTCGAACAAGTCGGCTTCGGACCCATCTCTCCTAAATAATAGGGCATTCCCCAACGACGCGTGCGCATAGCGGCCTTCAAGGCCGCTATTGCACGCAACTTCTTATGTAGGTTTGTCCCCTTGATAATGGGTGTCCCGCCTTGGATTAGAGTTCTGCCTCCCTGGCCAGTAGCCAAGATTGCCAGGTTTATACAATCATCACCTACAAGTCGAAACGGCGCAAAGTTCTAAATCGATC\n"
     ]
    }
   ],
   "source": [
    "def revc(dna):\n",
    "    complement = {\n",
    "        'A': 'T',\n",
    "        'T': 'A',\n",
    "        'C': 'G',\n",
    "        'G': 'C'\n",
    "    }\n",
    "    revcstr = []\n",
    "    revstr = dna[::-1]\n",
    "    for nucleotide in revstr:\n",
    "        if nucleotide in complement:\n",
    "            revcstr.append(complement[nucleotide])\n",
    "    return ''.join(revcstr)\n",
    "\n",
    "result = revc(dna)\n",
    "print(result)\n",
    "    \n",
    "\n"
   ]
  }
 ],
 "metadata": {
  "kernelspec": {
   "display_name": "base",
   "language": "python",
   "name": "python3"
  },
  "language_info": {
   "codemirror_mode": {
    "name": "ipython",
    "version": 3
   },
   "file_extension": ".py",
   "mimetype": "text/x-python",
   "name": "python",
   "nbconvert_exporter": "python",
   "pygments_lexer": "ipython3",
   "version": "3.11.5"
  }
 },
 "nbformat": 4,
 "nbformat_minor": 2
}
