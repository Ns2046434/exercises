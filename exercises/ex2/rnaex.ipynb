{
 "cells": [
  {
   "cell_type": "markdown",
   "metadata": {},
   "source": [
    "Given: A DNA string t\n",
    " having length at most 1000 nt.\n",
    "\n",
    "Return: The transcribed RNA string of "
   ]
  },
  {
   "cell_type": "code",
   "execution_count": 2,
   "metadata": {},
   "outputs": [],
   "source": [
    "with open('rosalind_rna.txt', 'r') as file:\n",
    "    dnastr = file.read()"
   ]
  },
  {
   "cell_type": "code",
   "execution_count": 3,
   "metadata": {},
   "outputs": [
    {
     "name": "stdout",
     "output_type": "stream",
     "text": [
      "UUUCCCUACACAGACAUGAAAGCAGGCUCAAGUAAUGUGUUCUACUGCUUGCGGAUCACCACCUCGUGAAAGCUUCGGAGUUAGACUGGGUAUGGCAGAGCGCGUAGAUUGGCAGAGUCGUUCGGCACGCCGCAUGCAAACUUUUCAGCAUUUUGCCGCGUGAUGAUAAGUCACCGAGGUCAAAUCCGCUGAACGUACGAUUCCUUCCUCGCGGAUAAACUAGCGACGAGAGUUUGAUACUGCUUAUCAUUAGCAUUCGUAGGUGUCUUACAAAGAAUCCUGCUGAAUGUGAGCAUCGUAAGAGCCAUAACCUUGCAACGCACGAGAGAUGGACAAUCUAAAAAGCGUCCACACUGGAAGCUUUGACUUACGAGGCUAACUUUAAACGCGGAAUGAGGGUCGAUAAGUCUAAUCCCCGACAAGUGGCCUACUUGCUCGAAUUUGUUGGGAAUCGUACACGAUUUUUCCCUGGGGGAGCUCCACCCUGAGGUGUAGGGCGCCGAAGCGAUACACGCGCCGCUCGCUGGUGAUCGGUUUGAGUGAGCCAACAGGUGUGUUUAGAAUACAGUCUCAAGUCCGGUCAUCGCGAUAUAAACCUAUAAGAUGGCUUUUAUCUUACACGAACCUGUGGUUUCGAACCCAUUUAGACCAGUUCUGCAAAGGUAGUUUUCACUCAUGAUGAAUACCGAGCCGCCUUCGAGGUCUAACGACUGCGCUUAUCGCCCGCCUUUCUCUUCACUCGGAAGACGAUCCGAGACGGCUAACGGACAGACUCAUAGGCAUAUCGACGUGAAGGUCCCUUAUUCAACGCCUAGGGACCUCGGAACCGAGGGCACGUCUACCUAGUGGGAAUCCGUCCAGGUCUAUUAAAAGUGCGGCUACCUGUCUAACCACUAAAUCCGCUCUAGACUUGAGUCCUAUUGCCGACGCCGCAAGAUGCGCGCCAUAACGCUCAUUUGCAGUCACGUUGUC\n",
      "\n"
     ]
    }
   ],
   "source": [
    "def f(dnastr):\n",
    "    if dnastr == \"\":\n",
    "        return \"\"\n",
    "    nuc = dnastr[0]\n",
    "    if nuc == 'T':\n",
    "        return 'U' + f(dnastr[1:])\n",
    "    else:\n",
    "        return nuc + f(dnastr[1:])\n",
    "    \n",
    "rna = f(dnastr)\n",
    "print(rna)"
   ]
  }
 ],
 "metadata": {
  "kernelspec": {
   "display_name": "base",
   "language": "python",
   "name": "python3"
  },
  "language_info": {
   "codemirror_mode": {
    "name": "ipython",
    "version": 3
   },
   "file_extension": ".py",
   "mimetype": "text/x-python",
   "name": "python",
   "nbconvert_exporter": "python",
   "pygments_lexer": "ipython3",
   "version": "3.11.5"
  }
 },
 "nbformat": 4,
 "nbformat_minor": 2
}
