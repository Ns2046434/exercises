{
 "cells": [
  {
   "cell_type": "markdown",
   "metadata": {},
   "source": []
  },
  {
   "cell_type": "markdown",
   "metadata": {},
   "source": [
    "Given: A positive integer n≤103\n",
    " and an array A[1..n]\n",
    " of integers.\n",
    "\n",
    "Return: The number of swaps performed by insertion sort algorithm on  A[1..n]"
   ]
  },
  {
   "cell_type": "code",
   "execution_count": 3,
   "metadata": {},
   "outputs": [],
   "source": [
    "with open('rosalind_ins.txt', 'r') as f:\n",
    "        f.readline()\n",
    "        array = [int(i) for i in f. readline().strip().split(' ')]"
   ]
  },
  {
   "cell_type": "code",
   "execution_count": 4,
   "metadata": {},
   "outputs": [
    {
     "name": "stdout",
     "output_type": "stream",
     "text": [
      "212790\n"
     ]
    }
   ],
   "source": [
    "def ins(array):\n",
    "    swap = 0\n",
    "    for i in range(len(array)):\n",
    "        k = i\n",
    "        while k > 0 and array[k] < array[k-1]:\n",
    "            array[k-1], array[k] = array[k], array[k-1]\n",
    "            swap += 1\n",
    "            k -= 1\n",
    "\n",
    "    return swap\n",
    "\n",
    "\n",
    "print(ins(array))"
   ]
  }
 ],
 "metadata": {
  "kernelspec": {
   "display_name": "base",
   "language": "python",
   "name": "python3"
  },
  "language_info": {
   "codemirror_mode": {
    "name": "ipython",
    "version": 3
   },
   "file_extension": ".py",
   "mimetype": "text/x-python",
   "name": "python",
   "nbconvert_exporter": "python",
   "pygments_lexer": "ipython3",
   "version": "3.11.5"
  }
 },
 "nbformat": 4,
 "nbformat_minor": 2
}
