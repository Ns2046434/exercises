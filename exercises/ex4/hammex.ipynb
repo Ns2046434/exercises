{
 "cells": [
  {
   "cell_type": "markdown",
   "metadata": {},
   "source": [
    "Given: Two DNA strings s\n",
    " and t\n",
    " of equal length (not exceeding 1 kbp).\n",
    "\n",
    "Return: The Hamming distance  dH(s,t)"
   ]
  },
  {
   "cell_type": "code",
   "execution_count": 1,
   "metadata": {},
   "outputs": [],
   "source": [
    "with open('rosalind_hamm.txt', 'r') as file:\n",
    "    lines = file.readlines()\n",
    "    s = lines[0].strip()\n",
    "    t = lines[1].strip()"
   ]
  },
  {
   "cell_type": "code",
   "execution_count": 2,
   "metadata": {},
   "outputs": [
    {
     "name": "stdout",
     "output_type": "stream",
     "text": [
      "486\n"
     ]
    }
   ],
   "source": [
    "def dH(s, t):\n",
    "    distance = 0\n",
    "    for a, b in zip(s, t):\n",
    "        if a != b:\n",
    "            distance += 1\n",
    "    return distance\n",
    "result = dH(s, t)\n",
    "print(result) "
   ]
  }
 ],
 "metadata": {
  "kernelspec": {
   "display_name": "base",
   "language": "python",
   "name": "python3"
  },
  "language_info": {
   "codemirror_mode": {
    "name": "ipython",
    "version": 3
   },
   "file_extension": ".py",
   "mimetype": "text/x-python",
   "name": "python",
   "nbconvert_exporter": "python",
   "pygments_lexer": "ipython3",
   "version": "3.11.5"
  }
 },
 "nbformat": 4,
 "nbformat_minor": 2
}
