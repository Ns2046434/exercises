{
 "cells": [
  {
   "cell_type": "markdown",
   "metadata": {},
   "source": [
    "Given: A DNA string s of length at most 1000 nt.\n",
    " \n",
    "Return: Four integers (separated by spaces) counting the respective number of times that the symbols 'A', 'C', 'G', and 'T' occur in s\n"
   ]
  },
  {
   "cell_type": "code",
   "execution_count": 1,
   "metadata": {},
   "outputs": [],
   "source": [
    "\n",
    "with open('rosalind_dna.txt', 'r') as file:\n",
    "    data = file.read()"
   ]
  },
  {
   "cell_type": "code",
   "execution_count": 2,
   "metadata": {},
   "outputs": [
    {
     "name": "stdout",
     "output_type": "stream",
     "text": [
      "239 235 228 248\n"
     ]
    }
   ],
   "source": [
    "\n",
    "\n",
    "def count(data):\n",
    "    count_A = count_G = count_C = count_T = 0\n",
    "    for nucleotide in data:\n",
    "        if nucleotide == 'A':\n",
    "            count_A += 1 \n",
    "        elif nucleotide == 'C':\n",
    "            count_G += 1\n",
    "        elif nucleotide == 'G':\n",
    "            count_C += 1 \n",
    "        elif nucleotide == 'T':\n",
    "            count_T += 1\n",
    "    return count_A, count_G, count_C, count_T\n",
    "\n",
    "\n",
    "result = count(data)\n",
    "print(*result)\n"
   ]
  },
  {
   "cell_type": "code",
   "execution_count": null,
   "metadata": {},
   "outputs": [],
   "source": []
  }
 ],
 "metadata": {
  "kernelspec": {
   "display_name": "base",
   "language": "python",
   "name": "python3"
  },
  "language_info": {
   "codemirror_mode": {
    "name": "ipython",
    "version": 3
   },
   "file_extension": ".py",
   "mimetype": "text/x-python",
   "name": "python",
   "nbconvert_exporter": "python",
   "pygments_lexer": "ipython3",
   "version": "3.11.5"
  }
 },
 "nbformat": 4,
 "nbformat_minor": 2
}
