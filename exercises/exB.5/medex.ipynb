{
 "cells": [
  {
   "cell_type": "markdown",
   "metadata": {},
   "source": [
    "Given: A positive integer n≤105\n",
    " and an array A[1..n]\n",
    " of integers from −105\n",
    " to 105\n",
    ", a positive number k≤n\n",
    ".\n",
    "\n",
    "Return: The k\n",
    "-th smallest element of  A"
   ]
  },
  {
   "cell_type": "code",
   "execution_count": 5,
   "metadata": {},
   "outputs": [],
   "source": [
    "with open(\"rosalind_med.txt\", \"r\") as f:\n",
    "    n = int(f.readline().strip())\n",
    "    A = [int(i) for i in f.readline().strip().split()]\n",
    "    k = int(f.readline().strip())"
   ]
  },
  {
   "cell_type": "code",
   "execution_count": 7,
   "metadata": {},
   "outputs": [
    {
     "name": "stdout",
     "output_type": "stream",
     "text": [
      "-69745\n"
     ]
    }
   ],
   "source": [
    "def Median(n, A, k):\n",
    "    v = n//2\n",
    "    SL, SV, SR = [], [], []\n",
    "    for i in range(n):\n",
    "        if A[i] < A[v]: SL.append(A[i])\n",
    "        if A[i] == A[v]: SV.append(A[i])\n",
    "        if A[i] > A[v]: SR.append(A[i])\n",
    "    if k <= len(SL):\n",
    "        Median(len(SL), SL, k)\n",
    "    if len(SL) < k and k <=len(SL)+len(SV):\n",
    "        print(A[v])\n",
    "        return A[v]\n",
    "    if k > len(SL)+len(SV):\n",
    "        Median(len(SR), SR, k-len(SL)-len(SV))\n",
    "\n",
    "res = Median(n, A, k)\n"
   ]
  }
 ],
 "metadata": {
  "kernelspec": {
   "display_name": "base",
   "language": "python",
   "name": "python3"
  },
  "language_info": {
   "codemirror_mode": {
    "name": "ipython",
    "version": 3
   },
   "file_extension": ".py",
   "mimetype": "text/x-python",
   "name": "python",
   "nbconvert_exporter": "python",
   "pygments_lexer": "ipython3",
   "version": "3.11.5"
  }
 },
 "nbformat": 4,
 "nbformat_minor": 2
}
