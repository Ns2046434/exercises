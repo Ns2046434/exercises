{
 "cells": [
  {
   "cell_type": "markdown",
   "metadata": {},
   "source": [
    "Given: At most 10 DNA strings in FASTA format (of length at most 1 kbp each).\n",
    "\n",
    "Return: The ID of the string having the highest GC-content, followed by the GC-content of that string. Rosalind allows for a default error of 0.001 in all decimal answers unless otherwise stated"
   ]
  },
  {
   "cell_type": "code",
   "execution_count": 11,
   "metadata": {},
   "outputs": [],
   "source": [
    "with open('rosalind_gc.txt', 'r') as file:\n",
    "    fasta_input = file.read()\n"
   ]
  },
  {
   "cell_type": "code",
   "execution_count": 12,
   "metadata": {},
   "outputs": [
    {
     "name": "stdout",
     "output_type": "stream",
     "text": [
      "Rosalind_3117\n",
      "52.663438\n"
     ]
    }
   ],
   "source": [
    "def gccount(dna):\n",
    "    g_count = dna.count('G')\n",
    "    c_count = dna.count('C')\n",
    "    tot_count = len(dna)\n",
    "\n",
    "    if tot_count == 0:\n",
    "        return 0.0\n",
    "    \n",
    "    gc_count = (g_count + c_count) / tot_count * 100\n",
    "    return gc_count\n",
    "\n",
    "def fasta(fastastr):\n",
    "    fasta_dic = {}\n",
    "    lines = fastastr.strip().splitlines()\n",
    "\n",
    "    id = \"\"\n",
    "    seq = \"\"\n",
    "\n",
    "    for line in lines:\n",
    "        if line.startswith(\">\"):\n",
    "            if id:\n",
    "                fasta_dic[id] = seq\n",
    "            id = line.strip()[1:]\n",
    "            seq = \"\"\n",
    "        else:\n",
    "            seq += line.strip()\n",
    "\n",
    "    if id:\n",
    "        fasta_dic[id] = seq\n",
    "    return fasta_dic\n",
    "    \n",
    "def hgccount(fastastr):\n",
    "    fasta_dic = fasta(fastastr)\n",
    "    maxgc_count = 0.0\n",
    "    maxgc_id = \"\"\n",
    "\n",
    "    for dna_id, dna_seq in fasta_dic.items():\n",
    "        gc_count = gccount(dna_seq)\n",
    "        if gc_count > maxgc_count:\n",
    "            maxgc_count = gc_count\n",
    "            maxgc_id = dna_id\n",
    "    return maxgc_id, maxgc_count\n",
    "\n",
    "result_id, resultgc = hgccount(fasta_input)\n",
    "print(f\"{result_id}\\n{resultgc:6f}\")\n"
   ]
  }
 ],
 "metadata": {
  "kernelspec": {
   "display_name": "base",
   "language": "python",
   "name": "python3"
  },
  "language_info": {
   "codemirror_mode": {
    "name": "ipython",
    "version": 3
   },
   "file_extension": ".py",
   "mimetype": "text/x-python",
   "name": "python",
   "nbconvert_exporter": "python",
   "pygments_lexer": "ipython3",
   "version": "3.11.5"
  }
 },
 "nbformat": 4,
 "nbformat_minor": 2
}
