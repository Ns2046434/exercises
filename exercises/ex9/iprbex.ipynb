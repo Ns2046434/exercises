{
 "cells": [
  {
   "cell_type": "markdown",
   "metadata": {},
   "source": [
    "Given: Three positive integers k\n",
    ", m\n",
    ", and n\n",
    ", representing a population containing k+m+n\n",
    " organisms: k\n",
    " individuals are homozygous dominant for a factor, m\n",
    " are heterozygous, and n\n",
    " are homozygous recessive.\n",
    "\n",
    "Return: The probability that two randomly selected mating organisms will produce an individual possessing a dominant allele (and thus displaying the dominant phenotype). Assume that any two organisms can mate"
   ]
  },
  {
   "cell_type": "code",
   "execution_count": 21,
   "metadata": {},
   "outputs": [],
   "source": [
    "with open('rosalind_iprb.txt', 'r') as file:\n",
    "    line = file.read().strip()\n",
    "    k, m, n = map(int, line.split())"
   ]
  },
  {
   "cell_type": "code",
   "execution_count": 22,
   "metadata": {},
   "outputs": [
    {
     "name": "stdout",
     "output_type": "stream",
     "text": [
      "0.80312\n"
     ]
    }
   ],
   "source": [
    "def probdom(k, m, n):\n",
    "    total = k + m + n\n",
    "    kk = (k/total) * ((k - 1) / (total - 1))\n",
    "    km = (k/total) * (m / (total - 1)) + (m / total) * (k / (total - 1))\n",
    "    kn = (k/total) * (n / (total - 1)) + (n / total) * (k / (total - 1))\n",
    "    mm = (m/total) * ((m - 1) / (total - 1)) * 0.75\n",
    "    mn = (m/total) * (n / (total - 1)) * 0.5 + (n / total) * (m / (total - 1)) * 0.5\n",
    "    totprob = kk + km + kn + mm + mn\n",
    "    return totprob\n",
    "result = probdom(k, m, n)\n",
    "print(f\"{result:.5f}\")"
   ]
  }
 ],
 "metadata": {
  "kernelspec": {
   "display_name": "base",
   "language": "python",
   "name": "python3"
  },
  "language_info": {
   "codemirror_mode": {
    "name": "ipython",
    "version": 3
   },
   "file_extension": ".py",
   "mimetype": "text/x-python",
   "name": "python",
   "nbconvert_exporter": "python",
   "pygments_lexer": "ipython3",
   "version": "3.11.5"
  }
 },
 "nbformat": 4,
 "nbformat_minor": 2
}
